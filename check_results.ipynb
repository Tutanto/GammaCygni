{
 "cells": [
  {
   "cell_type": "code",
   "execution_count": null,
   "metadata": {},
   "outputs": [],
   "source": [
    "from modules import read_json, plotTS, plotRes, plot_results, showWindow\n",
    "import logging\n",
    "import warnings\n",
    "from IPython.display import Video\n",
    "\n",
    "#now we will Create and configure logger \n",
    "logging.basicConfig(filename=\"std.log\", \n",
    "\t\t\t\t\tformat='%(asctime)s %(message)s', \n",
    "\t\t\t\t\tfilemode='w') \n",
    "\n",
    "#Let us Create an object \n",
    "logger=logging.getLogger()\n",
    "#Now we are going to Set the threshold of logger to DEBUG \n",
    "logger.setLevel(logging.WARNING)\n",
    "warnings.simplefilter('ignore')"
   ]
  },
  {
   "cell_type": "code",
   "execution_count": null,
   "metadata": {},
   "outputs": [],
   "source": [
    "dataset = \"analysis_5\"\n",
    "nullhyp = \"20230104-195830\"                 #analysis_5\n",
    "newhyp = \"20230105-094944\"                  #modello originale, analysis_5\n",
    "#newhyp = \"20221215-183052\"                 #pwl, hess-like, analysis_3\n",
    "#newhyp = \"20221212-213717\"                 #pwl, disk, analysis_3\n",
    "json_file = \"/results_sliding_window.json\""
   ]
  },
  {
   "cell_type": "code",
   "execution_count": null,
   "metadata": {},
   "outputs": [],
   "source": [
    "lists = read_json(newhyp+json_file)\n",
    "plot_results(lists, spectra=1, spatial=1)"
   ]
  },
  {
   "cell_type": "code",
   "execution_count": null,
   "metadata": {},
   "outputs": [],
   "source": [
    "plotTS(nullhyp+json_file, newhyp+json_file, max=10)"
   ]
  },
  {
   "cell_type": "code",
   "execution_count": null,
   "metadata": {},
   "outputs": [],
   "source": [
    "showWindow(dataset)\n",
    "Video(\"movie.mp4\", embed=True)"
   ]
  },
  {
   "cell_type": "code",
   "execution_count": null,
   "metadata": {},
   "outputs": [],
   "source": [
    "plotRes(dataset, newhyp)"
   ]
  },
  {
   "cell_type": "code",
   "execution_count": null,
   "metadata": {},
   "outputs": [],
   "source": []
  }
 ],
 "metadata": {
  "kernelspec": {
   "display_name": "gammapy-1.0",
   "language": "python",
   "name": "python3"
  },
  "language_info": {
   "codemirror_mode": {
    "name": "ipython",
    "version": 3
   },
   "file_extension": ".py",
   "mimetype": "text/x-python",
   "name": "python",
   "nbconvert_exporter": "python",
   "pygments_lexer": "ipython3",
   "version": "3.9.15"
  },
  "orig_nbformat": 4,
  "vscode": {
   "interpreter": {
    "hash": "e6ec65d4e5125fb7c3728be15180ce0198c4c898eb3567f17077f174e9082a6b"
   }
  }
 },
 "nbformat": 4,
 "nbformat_minor": 2
}
