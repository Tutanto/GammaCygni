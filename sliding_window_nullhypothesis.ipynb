{
 "cells": [
  {
   "cell_type": "code",
   "execution_count": 1,
   "metadata": {},
   "outputs": [],
   "source": [
    "from gammapy.modeling.models import (\n",
    "    PowerLawSpectralModel,\n",
    "    ConstantSpectralModel,\n",
    "    SkyModel,\n",
    "    DiskSpatialModel,\n",
    "    GeneralizedGaussianSpatialModel,\n",
    "    GaussianSpatialModel,\n",
    "    Models,\n",
    ")\n",
    "from gammapy.datasets import MapDataset\n",
    "from gammapy.modeling import Fit\n",
    "from astropy.coordinates import SkyCoord\n",
    "from regions import CircleSkyRegion\n",
    "\n",
    "from modules import write_json\n",
    "from pathlib import Path\n",
    "\n",
    "from os import chdir\n",
    "import glob\n",
    "import shutil\n",
    "import json\n",
    "import time\n",
    "import astropy.units as u\n",
    "import numpy as np\n",
    "import matplotlib.pyplot as plt\n",
    "%matplotlib inline"
   ]
  },
  {
   "cell_type": "code",
   "execution_count": 2,
   "metadata": {},
   "outputs": [
    {
     "name": "stderr",
     "output_type": "stream",
     "text": [
      "WARNING: FITSFixedWarning: RADECSYS= 'FK5 ' / WCS for this file \n",
      "the RADECSYS keyword is deprecated, use RADESYSa. [astropy.wcs.wcs]\n",
      "WARNING: FITSFixedWarning: RADECSYS= 'FK5 ' / WCS for this file \n",
      "the RADECSYS keyword is deprecated, use RADESYSa. [astropy.wcs.wcs]\n",
      "WARNING: FITSFixedWarning: RADECSYS= 'FK5 ' / WCS for this file \n",
      "the RADECSYS keyword is deprecated, use RADESYSa. [astropy.wcs.wcs]\n",
      "WARNING: FITSFixedWarning: RADECSYS= 'FK5 ' / WCS for this file \n",
      "the RADECSYS keyword is deprecated, use RADESYSa. [astropy.wcs.wcs]\n",
      "Position <SkyCoord (Galactic): (l, b) in deg\n",
      "    (71.85383971, -2.76953932)> is outside valid IRF map range, using nearest IRF defined within\n",
      "Position <SkyCoord (Galactic): (l, b) in deg\n",
      "    (71.85383971, -2.76953932)> is outside valid IRF map range, using nearest IRF defined within\n"
     ]
    },
    {
     "name": "stdout",
     "output_type": "stream",
     "text": [
      "Moved: model_68.0.yaml\n",
      "Moved: model_68.0_covariance.dat\n"
     ]
    },
    {
     "name": "stderr",
     "output_type": "stream",
     "text": [
      "WARNING: FITSFixedWarning: RADECSYS= 'FK5 ' / WCS for this file \n",
      "the RADECSYS keyword is deprecated, use RADESYSa. [astropy.wcs.wcs]\n",
      "WARNING: FITSFixedWarning: RADECSYS= 'FK5 ' / WCS for this file \n",
      "the RADECSYS keyword is deprecated, use RADESYSa. [astropy.wcs.wcs]\n",
      "WARNING: FITSFixedWarning: RADECSYS= 'FK5 ' / WCS for this file \n",
      "the RADECSYS keyword is deprecated, use RADESYSa. [astropy.wcs.wcs]\n",
      "WARNING: FITSFixedWarning: RADECSYS= 'FK5 ' / WCS for this file \n",
      "the RADECSYS keyword is deprecated, use RADESYSa. [astropy.wcs.wcs]\n",
      "Position <SkyCoord (Galactic): (l, b) in deg\n",
      "    (71.85383971, -2.76953932)> is outside valid IRF map range, using nearest IRF defined within\n",
      "Position <SkyCoord (Galactic): (l, b) in deg\n",
      "    (71.85383971, -2.76953932)> is outside valid IRF map range, using nearest IRF defined within\n",
      "Position <SkyCoord (Galactic): (l, b) in deg\n",
      "    (63.2281715, -0.13260413)> is outside valid IRF map range, using nearest IRF defined within\n",
      "Position <SkyCoord (Galactic): (l, b) in deg\n",
      "    (63.2281715, -0.13260413)> is outside valid IRF map range, using nearest IRF defined within\n"
     ]
    },
    {
     "name": "stdout",
     "output_type": "stream",
     "text": [
      "Moved: model_68.5.yaml\n",
      "Moved: model_68.5_covariance.dat\n"
     ]
    },
    {
     "name": "stderr",
     "output_type": "stream",
     "text": [
      "WARNING: FITSFixedWarning: RADECSYS= 'FK5 ' / WCS for this file \n",
      "the RADECSYS keyword is deprecated, use RADESYSa. [astropy.wcs.wcs]\n",
      "WARNING: FITSFixedWarning: RADECSYS= 'FK5 ' / WCS for this file \n",
      "the RADECSYS keyword is deprecated, use RADESYSa. [astropy.wcs.wcs]\n",
      "WARNING: FITSFixedWarning: RADECSYS= 'FK5 ' / WCS for this file \n",
      "the RADECSYS keyword is deprecated, use RADESYSa. [astropy.wcs.wcs]\n",
      "WARNING: FITSFixedWarning: RADECSYS= 'FK5 ' / WCS for this file \n",
      "the RADECSYS keyword is deprecated, use RADESYSa. [astropy.wcs.wcs]\n",
      "Position <SkyCoord (Galactic): (l, b) in deg\n",
      "    (74.82317446, 0.45287649)> is outside valid IRF map range, using nearest IRF defined within\n",
      "Position <SkyCoord (Galactic): (l, b) in deg\n",
      "    (74.82317446, 0.45287649)> is outside valid IRF map range, using nearest IRF defined within\n",
      "Position <SkyCoord (Galactic): (l, b) in deg\n",
      "    (71.85383971, -2.76953932)> is outside valid IRF map range, using nearest IRF defined within\n",
      "Position <SkyCoord (Galactic): (l, b) in deg\n",
      "    (71.85383971, -2.76953932)> is outside valid IRF map range, using nearest IRF defined within\n",
      "Position <SkyCoord (Galactic): (l, b) in deg\n",
      "    (63.2281715, -0.13260413)> is outside valid IRF map range, using nearest IRF defined within\n",
      "Position <SkyCoord (Galactic): (l, b) in deg\n",
      "    (63.2281715, -0.13260413)> is outside valid IRF map range, using nearest IRF defined within\n"
     ]
    },
    {
     "ename": "NoOverlapError",
     "evalue": "Arrays do not overlap.",
     "output_type": "error",
     "traceback": [
      "\u001b[0;31m---------------------------------------------------------------------------\u001b[0m",
      "\u001b[0;31mNoOverlapError\u001b[0m                            Traceback (most recent call last)",
      "\u001b[1;32m/home/antonio/Analysis/GAMMAPY/GammaCygni/analysis/sliding_window_nullhypothesis.ipynb Cell 2\u001b[0m in \u001b[0;36m<cell line: 14>\u001b[0;34m()\u001b[0m\n\u001b[1;32m     <a href='vscode-notebook-cell:/home/antonio/Analysis/GAMMAPY/GammaCygni/analysis/sliding_window_nullhypothesis.ipynb#W1sZmlsZQ%3D%3D?line=33'>34</a>\u001b[0m fit\u001b[39m.\u001b[39mbackend \u001b[39m=\u001b[39m \u001b[39m\"\u001b[39m\u001b[39mminuit\u001b[39m\u001b[39m\"\u001b[39m\n\u001b[1;32m     <a href='vscode-notebook-cell:/home/antonio/Analysis/GAMMAPY/GammaCygni/analysis/sliding_window_nullhypothesis.ipynb#W1sZmlsZQ%3D%3D?line=34'>35</a>\u001b[0m fit\u001b[39m.\u001b[39moptimize_opts \u001b[39m=\u001b[39m minuit_opts\n\u001b[0;32m---> <a href='vscode-notebook-cell:/home/antonio/Analysis/GAMMAPY/GammaCygni/analysis/sliding_window_nullhypothesis.ipynb#W1sZmlsZQ%3D%3D?line=35'>36</a>\u001b[0m result_minuit \u001b[39m=\u001b[39m fit\u001b[39m.\u001b[39;49mrun(analysis)\n\u001b[1;32m     <a href='vscode-notebook-cell:/home/antonio/Analysis/GAMMAPY/GammaCygni/analysis/sliding_window_nullhypothesis.ipynb#W1sZmlsZQ%3D%3D?line=37'>38</a>\u001b[0m results \u001b[39m=\u001b[39m {\n\u001b[1;32m     <a href='vscode-notebook-cell:/home/antonio/Analysis/GAMMAPY/GammaCygni/analysis/sliding_window_nullhypothesis.ipynb#W1sZmlsZQ%3D%3D?line=38'>39</a>\u001b[0m     \u001b[39mstr\u001b[39m(i): {\n\u001b[1;32m     <a href='vscode-notebook-cell:/home/antonio/Analysis/GAMMAPY/GammaCygni/analysis/sliding_window_nullhypothesis.ipynb#W1sZmlsZQ%3D%3D?line=39'>40</a>\u001b[0m         \u001b[39m\"\u001b[39m\u001b[39mmodels\u001b[39m\u001b[39m\"\u001b[39m: [filename, dataset],\n\u001b[0;32m   (...)\u001b[0m\n\u001b[1;32m     <a href='vscode-notebook-cell:/home/antonio/Analysis/GAMMAPY/GammaCygni/analysis/sliding_window_nullhypothesis.ipynb#W1sZmlsZQ%3D%3D?line=43'>44</a>\u001b[0m     },\n\u001b[1;32m     <a href='vscode-notebook-cell:/home/antonio/Analysis/GAMMAPY/GammaCygni/analysis/sliding_window_nullhypothesis.ipynb#W1sZmlsZQ%3D%3D?line=44'>45</a>\u001b[0m }\n\u001b[1;32m     <a href='vscode-notebook-cell:/home/antonio/Analysis/GAMMAPY/GammaCygni/analysis/sliding_window_nullhypothesis.ipynb#W1sZmlsZQ%3D%3D?line=46'>47</a>\u001b[0m file_to_move \u001b[39m=\u001b[39m [\u001b[39mf\u001b[39m\u001b[39m\"\u001b[39m\u001b[39mmodel_\u001b[39m\u001b[39m{\u001b[39;00mi\u001b[39m}\u001b[39;00m\u001b[39m.yaml\u001b[39m\u001b[39m\"\u001b[39m, \u001b[39mf\u001b[39m\u001b[39m\"\u001b[39m\u001b[39mmodel_\u001b[39m\u001b[39m{\u001b[39;00mi\u001b[39m}\u001b[39;00m\u001b[39m_covariance.dat\u001b[39m\u001b[39m\"\u001b[39m]\n",
      "File \u001b[0;32m~/Installed/anaconda3/envs/gammapy-1.0/lib/python3.9/site-packages/gammapy/modeling/fit.py:164\u001b[0m, in \u001b[0;36mFit.run\u001b[0;34m(self, datasets)\u001b[0m\n\u001b[1;32m    151\u001b[0m \u001b[39mdef\u001b[39;00m \u001b[39mrun\u001b[39m(\u001b[39mself\u001b[39m, datasets):\n\u001b[1;32m    152\u001b[0m     \u001b[39m\"\"\"Run all fitting steps.\u001b[39;00m\n\u001b[1;32m    153\u001b[0m \n\u001b[1;32m    154\u001b[0m \u001b[39m    Parameters\u001b[39;00m\n\u001b[0;32m   (...)\u001b[0m\n\u001b[1;32m    162\u001b[0m \u001b[39m        Fit result\u001b[39;00m\n\u001b[1;32m    163\u001b[0m \u001b[39m    \"\"\"\u001b[39;00m\n\u001b[0;32m--> 164\u001b[0m     optimize_result \u001b[39m=\u001b[39m \u001b[39mself\u001b[39;49m\u001b[39m.\u001b[39;49moptimize(datasets\u001b[39m=\u001b[39;49mdatasets)\n\u001b[1;32m    166\u001b[0m     \u001b[39mif\u001b[39;00m \u001b[39mself\u001b[39m\u001b[39m.\u001b[39mbackend \u001b[39mnot\u001b[39;00m \u001b[39min\u001b[39;00m registry\u001b[39m.\u001b[39mregister[\u001b[39m\"\u001b[39m\u001b[39mcovariance\u001b[39m\u001b[39m\"\u001b[39m]:\n\u001b[1;32m    167\u001b[0m         log\u001b[39m.\u001b[39mwarning(\u001b[39m\"\u001b[39m\u001b[39mNo covariance estimate - not supported by this backend.\u001b[39m\u001b[39m\"\u001b[39m)\n",
      "File \u001b[0;32m~/Installed/anaconda3/envs/gammapy-1.0/lib/python3.9/site-packages/gammapy/modeling/fit.py:209\u001b[0m, in \u001b[0;36mFit.optimize\u001b[0;34m(self, datasets)\u001b[0m\n\u001b[1;32m    205\u001b[0m compute \u001b[39m=\u001b[39m registry\u001b[39m.\u001b[39mget(\u001b[39m\"\u001b[39m\u001b[39moptimize\u001b[39m\u001b[39m\"\u001b[39m, backend)\n\u001b[1;32m    206\u001b[0m \u001b[39m# TODO: change this calling interface!\u001b[39;00m\n\u001b[1;32m    207\u001b[0m \u001b[39m# probably should pass a fit statistic, which has a model, which has parameters\u001b[39;00m\n\u001b[1;32m    208\u001b[0m \u001b[39m# and return something simpler, not a tuple of three things\u001b[39;00m\n\u001b[0;32m--> 209\u001b[0m factors, info, optimizer \u001b[39m=\u001b[39m compute(\n\u001b[1;32m    210\u001b[0m     parameters\u001b[39m=\u001b[39;49mparameters,\n\u001b[1;32m    211\u001b[0m     function\u001b[39m=\u001b[39;49mdatasets\u001b[39m.\u001b[39;49mstat_sum,\n\u001b[1;32m    212\u001b[0m     store_trace\u001b[39m=\u001b[39;49m\u001b[39mself\u001b[39;49m\u001b[39m.\u001b[39;49mstore_trace,\n\u001b[1;32m    213\u001b[0m     \u001b[39m*\u001b[39;49m\u001b[39m*\u001b[39;49mkwargs,\n\u001b[1;32m    214\u001b[0m )\n\u001b[1;32m    216\u001b[0m \u001b[39mif\u001b[39;00m backend \u001b[39m==\u001b[39m \u001b[39m\"\u001b[39m\u001b[39mminuit\u001b[39m\u001b[39m\"\u001b[39m:\n\u001b[1;32m    217\u001b[0m     \u001b[39mself\u001b[39m\u001b[39m.\u001b[39m_minuit \u001b[39m=\u001b[39m optimizer\n",
      "File \u001b[0;32m~/Installed/anaconda3/envs/gammapy-1.0/lib/python3.9/site-packages/gammapy/modeling/iminuit.py:79\u001b[0m, in \u001b[0;36moptimize_iminuit\u001b[0;34m(parameters, function, store_trace, **kwargs)\u001b[0m\n\u001b[1;32m     73\u001b[0m migrad_opts \u001b[39m=\u001b[39m kwargs\u001b[39m.\u001b[39mpop(\u001b[39m\"\u001b[39m\u001b[39mmigrad_opts\u001b[39m\u001b[39m\"\u001b[39m, {})\n\u001b[1;32m     75\u001b[0m minuit, minuit_func \u001b[39m=\u001b[39m setup_iminuit(\n\u001b[1;32m     76\u001b[0m     parameters\u001b[39m=\u001b[39mparameters, function\u001b[39m=\u001b[39mfunction, store_trace\u001b[39m=\u001b[39mstore_trace, \u001b[39m*\u001b[39m\u001b[39m*\u001b[39mkwargs\n\u001b[1;32m     77\u001b[0m )\n\u001b[0;32m---> 79\u001b[0m minuit\u001b[39m.\u001b[39;49mmigrad(\u001b[39m*\u001b[39;49m\u001b[39m*\u001b[39;49mmigrad_opts)\n\u001b[1;32m     81\u001b[0m factors \u001b[39m=\u001b[39m minuit\u001b[39m.\u001b[39mvalues\n\u001b[1;32m     82\u001b[0m info \u001b[39m=\u001b[39m {\n\u001b[1;32m     83\u001b[0m     \u001b[39m\"\u001b[39m\u001b[39msuccess\u001b[39m\u001b[39m\"\u001b[39m: minuit\u001b[39m.\u001b[39mvalid,\n\u001b[1;32m     84\u001b[0m     \u001b[39m\"\u001b[39m\u001b[39mnfev\u001b[39m\u001b[39m\"\u001b[39m: minuit\u001b[39m.\u001b[39mnfcn,\n\u001b[1;32m     85\u001b[0m     \u001b[39m\"\u001b[39m\u001b[39mmessage\u001b[39m\u001b[39m\"\u001b[39m: _get_message(minuit, parameters),\n\u001b[1;32m     86\u001b[0m     \u001b[39m\"\u001b[39m\u001b[39mtrace\u001b[39m\u001b[39m\"\u001b[39m: minuit_func\u001b[39m.\u001b[39mtrace,\n\u001b[1;32m     87\u001b[0m }\n",
      "File \u001b[0;32m~/Installed/anaconda3/envs/gammapy-1.0/lib/python3.9/site-packages/iminuit/minuit.py:694\u001b[0m, in \u001b[0;36mMinuit.migrad\u001b[0;34m(self, ncall, iterate)\u001b[0m\n\u001b[1;32m    692\u001b[0m \u001b[39mif\u001b[39;00m \u001b[39mself\u001b[39m\u001b[39m.\u001b[39m_precision \u001b[39mis\u001b[39;00m \u001b[39mnot\u001b[39;00m \u001b[39mNone\u001b[39;00m:\n\u001b[1;32m    693\u001b[0m     migrad\u001b[39m.\u001b[39mprecision \u001b[39m=\u001b[39m \u001b[39mself\u001b[39m\u001b[39m.\u001b[39m_precision\n\u001b[0;32m--> 694\u001b[0m fm \u001b[39m=\u001b[39m migrad(ncall, \u001b[39mself\u001b[39;49m\u001b[39m.\u001b[39;49m_tolerance)\n\u001b[1;32m    695\u001b[0m \u001b[39mif\u001b[39;00m fm\u001b[39m.\u001b[39mis_valid \u001b[39mor\u001b[39;00m fm\u001b[39m.\u001b[39mhas_reached_call_limit:\n\u001b[1;32m    696\u001b[0m     \u001b[39mbreak\u001b[39;00m\n",
      "File \u001b[0;32m~/Installed/anaconda3/envs/gammapy-1.0/lib/python3.9/site-packages/gammapy/modeling/iminuit.py:25\u001b[0m, in \u001b[0;36mMinuitLikelihood.fcn\u001b[0;34m(self, *factors)\u001b[0m\n\u001b[1;32m     22\u001b[0m \u001b[39mdef\u001b[39;00m \u001b[39mfcn\u001b[39m(\u001b[39mself\u001b[39m, \u001b[39m*\u001b[39mfactors):\n\u001b[1;32m     23\u001b[0m     \u001b[39mself\u001b[39m\u001b[39m.\u001b[39mparameters\u001b[39m.\u001b[39mset_parameter_factors(factors)\n\u001b[0;32m---> 25\u001b[0m     total_stat \u001b[39m=\u001b[39m \u001b[39mself\u001b[39;49m\u001b[39m.\u001b[39;49mfunction()\n\u001b[1;32m     27\u001b[0m     \u001b[39mif\u001b[39;00m \u001b[39mself\u001b[39m\u001b[39m.\u001b[39mstore_trace:\n\u001b[1;32m     28\u001b[0m         \u001b[39mself\u001b[39m\u001b[39m.\u001b[39mstore_trace_iteration(total_stat)\n",
      "File \u001b[0;32m~/Installed/anaconda3/envs/gammapy-1.0/lib/python3.9/site-packages/gammapy/datasets/core.py:224\u001b[0m, in \u001b[0;36mDatasets.stat_sum\u001b[0;34m(self)\u001b[0m\n\u001b[1;32m    222\u001b[0m \u001b[39m# TODO: add parallel evaluation of likelihoods\u001b[39;00m\n\u001b[1;32m    223\u001b[0m \u001b[39mfor\u001b[39;00m dataset \u001b[39min\u001b[39;00m \u001b[39mself\u001b[39m:\n\u001b[0;32m--> 224\u001b[0m     stat_sum \u001b[39m+\u001b[39m\u001b[39m=\u001b[39m dataset\u001b[39m.\u001b[39;49mstat_sum()\n\u001b[1;32m    225\u001b[0m \u001b[39mreturn\u001b[39;00m stat_sum\n",
      "File \u001b[0;32m~/Installed/anaconda3/envs/gammapy-1.0/lib/python3.9/site-packages/gammapy/datasets/map.py:1084\u001b[0m, in \u001b[0;36mMapDataset.stat_sum\u001b[0;34m(self)\u001b[0m\n\u001b[1;32m   1082\u001b[0m \u001b[39mdef\u001b[39;00m \u001b[39mstat_sum\u001b[39m(\u001b[39mself\u001b[39m):\n\u001b[1;32m   1083\u001b[0m     \u001b[39m\"\"\"Total likelihood given the current model parameters.\"\"\"\u001b[39;00m\n\u001b[0;32m-> 1084\u001b[0m     counts, npred \u001b[39m=\u001b[39m \u001b[39mself\u001b[39m\u001b[39m.\u001b[39mcounts\u001b[39m.\u001b[39mdata\u001b[39m.\u001b[39mastype(\u001b[39mfloat\u001b[39m), \u001b[39mself\u001b[39;49m\u001b[39m.\u001b[39;49mnpred()\u001b[39m.\u001b[39mdata\n\u001b[1;32m   1086\u001b[0m     \u001b[39mif\u001b[39;00m \u001b[39mself\u001b[39m\u001b[39m.\u001b[39mmask \u001b[39mis\u001b[39;00m \u001b[39mnot\u001b[39;00m \u001b[39mNone\u001b[39;00m:\n\u001b[1;32m   1087\u001b[0m         \u001b[39mreturn\u001b[39;00m cash_sum_cython(counts[\u001b[39mself\u001b[39m\u001b[39m.\u001b[39mmask\u001b[39m.\u001b[39mdata], npred[\u001b[39mself\u001b[39m\u001b[39m.\u001b[39mmask\u001b[39m.\u001b[39mdata])\n",
      "File \u001b[0;32m~/Installed/anaconda3/envs/gammapy-1.0/lib/python3.9/site-packages/gammapy/datasets/map.py:434\u001b[0m, in \u001b[0;36mMapDataset.npred\u001b[0;34m(self)\u001b[0m\n\u001b[1;32m    426\u001b[0m \u001b[39mdef\u001b[39;00m \u001b[39mnpred\u001b[39m(\u001b[39mself\u001b[39m):\n\u001b[1;32m    427\u001b[0m     \u001b[39m\"\"\"Total predicted source and background counts\u001b[39;00m\n\u001b[1;32m    428\u001b[0m \n\u001b[1;32m    429\u001b[0m \u001b[39m    Returns\u001b[39;00m\n\u001b[0;32m   (...)\u001b[0m\n\u001b[1;32m    432\u001b[0m \u001b[39m        Total predicted counts\u001b[39;00m\n\u001b[1;32m    433\u001b[0m \u001b[39m    \"\"\"\u001b[39;00m\n\u001b[0;32m--> 434\u001b[0m     npred_total \u001b[39m=\u001b[39m \u001b[39mself\u001b[39;49m\u001b[39m.\u001b[39;49mnpred_signal()\n\u001b[1;32m    436\u001b[0m     \u001b[39mif\u001b[39;00m \u001b[39mself\u001b[39m\u001b[39m.\u001b[39mbackground:\n\u001b[1;32m    437\u001b[0m         npred_total \u001b[39m+\u001b[39m\u001b[39m=\u001b[39m \u001b[39mself\u001b[39m\u001b[39m.\u001b[39mnpred_background()\n",
      "File \u001b[0;32m~/Installed/anaconda3/envs/gammapy-1.0/lib/python3.9/site-packages/gammapy/datasets/map.py:511\u001b[0m, in \u001b[0;36mMapDataset.npred_signal\u001b[0;34m(self, model_name)\u001b[0m\n\u001b[1;32m    502\u001b[0m         evaluator\u001b[39m.\u001b[39mupdate(\n\u001b[1;32m    503\u001b[0m             \u001b[39mself\u001b[39m\u001b[39m.\u001b[39mexposure,\n\u001b[1;32m    504\u001b[0m             \u001b[39mself\u001b[39m\u001b[39m.\u001b[39mpsf,\n\u001b[0;32m   (...)\u001b[0m\n\u001b[1;32m    507\u001b[0m             \u001b[39mself\u001b[39m\u001b[39m.\u001b[39mmask_image,\n\u001b[1;32m    508\u001b[0m         )\n\u001b[1;32m    510\u001b[0m     \u001b[39mif\u001b[39;00m evaluator\u001b[39m.\u001b[39mcontributes:\n\u001b[0;32m--> 511\u001b[0m         npred \u001b[39m=\u001b[39m evaluator\u001b[39m.\u001b[39;49mcompute_npred()\n\u001b[1;32m    512\u001b[0m         npred_total\u001b[39m.\u001b[39mstack(npred)\n\u001b[1;32m    514\u001b[0m \u001b[39mreturn\u001b[39;00m npred_total\n",
      "File \u001b[0;32m~/Installed/anaconda3/envs/gammapy-1.0/lib/python3.9/site-packages/gammapy/datasets/evaluator.py:385\u001b[0m, in \u001b[0;36mMapEvaluator.compute_npred\u001b[0;34m(self)\u001b[0m\n\u001b[1;32m    382\u001b[0m \u001b[39mif\u001b[39;00m \u001b[39mself\u001b[39m\u001b[39m.\u001b[39mparameters_changed \u001b[39mor\u001b[39;00m \u001b[39mnot\u001b[39;00m \u001b[39mself\u001b[39m\u001b[39m.\u001b[39muse_cache:\n\u001b[1;32m    383\u001b[0m     \u001b[39mdel\u001b[39;00m \u001b[39mself\u001b[39m\u001b[39m.\u001b[39m_compute_npred\n\u001b[0;32m--> 385\u001b[0m \u001b[39mreturn\u001b[39;00m \u001b[39mself\u001b[39;49m\u001b[39m.\u001b[39;49m_compute_npred\n",
      "File \u001b[0;32m~/Installed/anaconda3/envs/gammapy-1.0/lib/python3.9/site-packages/astropy/utils/decorators.py:785\u001b[0m, in \u001b[0;36mlazyproperty.__get__\u001b[0;34m(self, obj, owner)\u001b[0m\n\u001b[1;32m    783\u001b[0m         val \u001b[39m=\u001b[39m obj_dict\u001b[39m.\u001b[39mget(\u001b[39mself\u001b[39m\u001b[39m.\u001b[39m_key, _NotFound)\n\u001b[1;32m    784\u001b[0m         \u001b[39mif\u001b[39;00m val \u001b[39mis\u001b[39;00m _NotFound:\n\u001b[0;32m--> 785\u001b[0m             val \u001b[39m=\u001b[39m \u001b[39mself\u001b[39;49m\u001b[39m.\u001b[39;49mfget(obj)\n\u001b[1;32m    786\u001b[0m             obj_dict[\u001b[39mself\u001b[39m\u001b[39m.\u001b[39m_key] \u001b[39m=\u001b[39m val\n\u001b[1;32m    787\u001b[0m \u001b[39mreturn\u001b[39;00m val\n",
      "File \u001b[0;32m~/Installed/anaconda3/envs/gammapy-1.0/lib/python3.9/site-packages/gammapy/datasets/evaluator.py:361\u001b[0m, in \u001b[0;36mMapEvaluator._compute_npred\u001b[0;34m(self)\u001b[0m\n\u001b[1;32m    359\u001b[0m \u001b[39mif\u001b[39;00m \u001b[39mnot\u001b[39;00m \u001b[39mself\u001b[39m\u001b[39m.\u001b[39mparameter_norm_only_changed:\n\u001b[1;32m    360\u001b[0m     \u001b[39mfor\u001b[39;00m method \u001b[39min\u001b[39;00m \u001b[39mself\u001b[39m\u001b[39m.\u001b[39mmethods_sequence:\n\u001b[0;32m--> 361\u001b[0m         values \u001b[39m=\u001b[39m method(\u001b[39mself\u001b[39;49m\u001b[39m.\u001b[39;49m_computation_cache)\n\u001b[1;32m    362\u001b[0m         \u001b[39mself\u001b[39m\u001b[39m.\u001b[39m_computation_cache \u001b[39m=\u001b[39m values\n\u001b[1;32m    363\u001b[0m     npred \u001b[39m=\u001b[39m \u001b[39mself\u001b[39m\u001b[39m.\u001b[39m_computation_cache\n",
      "File \u001b[0;32m~/Installed/anaconda3/envs/gammapy-1.0/lib/python3.9/site-packages/gammapy/datasets/evaluator.py:250\u001b[0m, in \u001b[0;36mMapEvaluator.compute_flux_psf_convolved\u001b[0;34m(self, *arg)\u001b[0m\n\u001b[1;32m    248\u001b[0m         value \u001b[39m=\u001b[39m value \u001b[39m*\u001b[39m \u001b[39mself\u001b[39m\u001b[39m.\u001b[39mpsf_containment\n\u001b[1;32m    249\u001b[0m     \u001b[39melse\u001b[39;00m:\n\u001b[0;32m--> 250\u001b[0m         value \u001b[39m=\u001b[39m value \u001b[39m*\u001b[39m \u001b[39mself\u001b[39;49m\u001b[39m.\u001b[39;49mcompute_flux_spatial()\n\u001b[1;32m    252\u001b[0m \u001b[39mif\u001b[39;00m \u001b[39mself\u001b[39m\u001b[39m.\u001b[39mmodel\u001b[39m.\u001b[39mtemporal_model:\n\u001b[1;32m    253\u001b[0m     value \u001b[39m*\u001b[39m\u001b[39m=\u001b[39m \u001b[39mself\u001b[39m\u001b[39m.\u001b[39mcompute_temporal_norm()\n",
      "File \u001b[0;32m~/Installed/anaconda3/envs/gammapy-1.0/lib/python3.9/site-packages/gammapy/datasets/evaluator.py:261\u001b[0m, in \u001b[0;36mMapEvaluator.compute_flux_spatial\u001b[0;34m(self)\u001b[0m\n\u001b[1;32m    259\u001b[0m \u001b[39mif\u001b[39;00m \u001b[39mself\u001b[39m\u001b[39m.\u001b[39mparameters_spatial_changed() \u001b[39mor\u001b[39;00m \u001b[39mnot\u001b[39;00m \u001b[39mself\u001b[39m\u001b[39m.\u001b[39muse_cache:\n\u001b[1;32m    260\u001b[0m     \u001b[39mdel\u001b[39;00m \u001b[39mself\u001b[39m\u001b[39m.\u001b[39m_compute_flux_spatial\n\u001b[0;32m--> 261\u001b[0m \u001b[39mreturn\u001b[39;00m \u001b[39mself\u001b[39;49m\u001b[39m.\u001b[39;49m_compute_flux_spatial\n",
      "File \u001b[0;32m~/Installed/anaconda3/envs/gammapy-1.0/lib/python3.9/site-packages/astropy/utils/decorators.py:785\u001b[0m, in \u001b[0;36mlazyproperty.__get__\u001b[0;34m(self, obj, owner)\u001b[0m\n\u001b[1;32m    783\u001b[0m         val \u001b[39m=\u001b[39m obj_dict\u001b[39m.\u001b[39mget(\u001b[39mself\u001b[39m\u001b[39m.\u001b[39m_key, _NotFound)\n\u001b[1;32m    784\u001b[0m         \u001b[39mif\u001b[39;00m val \u001b[39mis\u001b[39;00m _NotFound:\n\u001b[0;32m--> 785\u001b[0m             val \u001b[39m=\u001b[39m \u001b[39mself\u001b[39;49m\u001b[39m.\u001b[39;49mfget(obj)\n\u001b[1;32m    786\u001b[0m             obj_dict[\u001b[39mself\u001b[39m\u001b[39m.\u001b[39m_key] \u001b[39m=\u001b[39m val\n\u001b[1;32m    787\u001b[0m \u001b[39mreturn\u001b[39;00m val\n",
      "File \u001b[0;32m~/Installed/anaconda3/envs/gammapy-1.0/lib/python3.9/site-packages/gammapy/datasets/evaluator.py:291\u001b[0m, in \u001b[0;36mMapEvaluator._compute_flux_spatial\u001b[0;34m(self)\u001b[0m\n\u001b[1;32m    289\u001b[0m     value \u001b[39m=\u001b[39m (values\u001b[39m.\u001b[39mquantity \u001b[39m*\u001b[39m weights)\u001b[39m.\u001b[39msum(axis\u001b[39m=\u001b[39m(\u001b[39m1\u001b[39m, \u001b[39m2\u001b[39m), keepdims\u001b[39m=\u001b[39m\u001b[39mTrue\u001b[39;00m)\n\u001b[1;32m    290\u001b[0m \u001b[39melse\u001b[39;00m:\n\u001b[0;32m--> 291\u001b[0m     value \u001b[39m=\u001b[39m \u001b[39mself\u001b[39;49m\u001b[39m.\u001b[39;49m_compute_flux_spatial_geom(\u001b[39mself\u001b[39;49m\u001b[39m.\u001b[39;49mgeom)\n\u001b[1;32m    293\u001b[0m \u001b[39mreturn\u001b[39;00m value\n",
      "File \u001b[0;32m~/Installed/anaconda3/envs/gammapy-1.0/lib/python3.9/site-packages/gammapy/datasets/evaluator.py:299\u001b[0m, in \u001b[0;36mMapEvaluator._compute_flux_spatial_geom\u001b[0;34m(self, geom)\u001b[0m\n\u001b[1;32m    297\u001b[0m \u001b[39mif\u001b[39;00m \u001b[39mnot\u001b[39;00m \u001b[39mself\u001b[39m\u001b[39m.\u001b[39mmodel\u001b[39m.\u001b[39mspatial_model\u001b[39m.\u001b[39mis_energy_dependent:\n\u001b[1;32m    298\u001b[0m     geom \u001b[39m=\u001b[39m geom\u001b[39m.\u001b[39mto_image()\n\u001b[0;32m--> 299\u001b[0m value \u001b[39m=\u001b[39m \u001b[39mself\u001b[39;49m\u001b[39m.\u001b[39;49mmodel\u001b[39m.\u001b[39;49mspatial_model\u001b[39m.\u001b[39;49mintegrate_geom(geom)\n\u001b[1;32m    301\u001b[0m \u001b[39mif\u001b[39;00m \u001b[39mself\u001b[39m\u001b[39m.\u001b[39mpsf \u001b[39mand\u001b[39;00m \u001b[39mself\u001b[39m\u001b[39m.\u001b[39mmodel\u001b[39m.\u001b[39mapply_irf[\u001b[39m\"\u001b[39m\u001b[39mpsf\u001b[39m\u001b[39m\"\u001b[39m]:\n\u001b[1;32m    302\u001b[0m     value \u001b[39m=\u001b[39m \u001b[39mself\u001b[39m\u001b[39m.\u001b[39mapply_psf(value)\n",
      "File \u001b[0;32m~/Installed/anaconda3/envs/gammapy-1.0/lib/python3.9/site-packages/gammapy/modeling/models/spatial.py:225\u001b[0m, in \u001b[0;36mSpatialModel.integrate_geom\u001b[0;34m(self, geom, oversampling_factor)\u001b[0m\n\u001b[1;32m    220\u001b[0m \u001b[39mif\u001b[39;00m \u001b[39mself\u001b[39m\u001b[39m.\u001b[39mevaluation_radius \u001b[39mis\u001b[39;00m \u001b[39mnot\u001b[39;00m \u001b[39mNone\u001b[39;00m:\n\u001b[1;32m    221\u001b[0m     \u001b[39m# Is it still needed?\u001b[39;00m\n\u001b[1;32m    222\u001b[0m     width \u001b[39m=\u001b[39m \u001b[39m2\u001b[39m \u001b[39m*\u001b[39m np\u001b[39m.\u001b[39mmaximum(\n\u001b[1;32m    223\u001b[0m         \u001b[39mself\u001b[39m\u001b[39m.\u001b[39mevaluation_radius\u001b[39m.\u001b[39mto_value(\u001b[39m\"\u001b[39m\u001b[39mdeg\u001b[39m\u001b[39m\"\u001b[39m), pix_scale\n\u001b[1;32m    224\u001b[0m     )\n\u001b[0;32m--> 225\u001b[0m     wcs_geom \u001b[39m=\u001b[39m wcs_geom\u001b[39m.\u001b[39;49mcutout(\u001b[39mself\u001b[39;49m\u001b[39m.\u001b[39;49mposition, width)\n\u001b[1;32m    227\u001b[0m upsampled_geom \u001b[39m=\u001b[39m wcs_geom\u001b[39m.\u001b[39mupsample(oversampling_factor, axis_name\u001b[39m=\u001b[39m\u001b[39mNone\u001b[39;00m)\n\u001b[1;32m    229\u001b[0m \u001b[39m# assume the upsampled solid angles are approximately factor**2 smaller\u001b[39;00m\n",
      "File \u001b[0;32m~/Installed/anaconda3/envs/gammapy-1.0/lib/python3.9/site-packages/gammapy/maps/wcs/geom.py:886\u001b[0m, in \u001b[0;36mWcsGeom.cutout\u001b[0;34m(self, position, width, mode, odd_npix)\u001b[0m\n\u001b[1;32m    883\u001b[0m     width \u001b[39m=\u001b[39m round_up_to_odd(width_npix)\n\u001b[1;32m    885\u001b[0m dummy_data \u001b[39m=\u001b[39m np\u001b[39m.\u001b[39mempty(\u001b[39mself\u001b[39m\u001b[39m.\u001b[39mto_image()\u001b[39m.\u001b[39mdata_shape, dtype\u001b[39m=\u001b[39m\u001b[39mbool\u001b[39m)\n\u001b[0;32m--> 886\u001b[0m c2d \u001b[39m=\u001b[39m Cutout2D(\n\u001b[1;32m    887\u001b[0m     data\u001b[39m=\u001b[39;49mdummy_data,\n\u001b[1;32m    888\u001b[0m     wcs\u001b[39m=\u001b[39;49m\u001b[39mself\u001b[39;49m\u001b[39m.\u001b[39;49mwcs,\n\u001b[1;32m    889\u001b[0m     position\u001b[39m=\u001b[39;49mposition,\n\u001b[1;32m    890\u001b[0m     \u001b[39m# Cutout2D takes size with order (lat, lon)\u001b[39;49;00m\n\u001b[1;32m    891\u001b[0m     size\u001b[39m=\u001b[39;49mwidth[::\u001b[39m-\u001b[39;49m\u001b[39m1\u001b[39;49m],\n\u001b[1;32m    892\u001b[0m     mode\u001b[39m=\u001b[39;49mmode,\n\u001b[1;32m    893\u001b[0m )\n\u001b[1;32m    894\u001b[0m \u001b[39mreturn\u001b[39;00m \u001b[39mself\u001b[39m\u001b[39m.\u001b[39m_init_copy(wcs\u001b[39m=\u001b[39mc2d\u001b[39m.\u001b[39mwcs, npix\u001b[39m=\u001b[39mc2d\u001b[39m.\u001b[39mshape[::\u001b[39m-\u001b[39m\u001b[39m1\u001b[39m])\n",
      "File \u001b[0;32m~/Installed/anaconda3/envs/gammapy-1.0/lib/python3.9/site-packages/astropy/nddata/utils.py:571\u001b[0m, in \u001b[0;36mCutout2D.__init__\u001b[0;34m(self, data, position, size, wcs, mode, fill_value, copy)\u001b[0m\n\u001b[1;32m    567\u001b[0m \u001b[39m# reverse position because extract_array and overlap_slices\u001b[39;00m\n\u001b[1;32m    568\u001b[0m \u001b[39m# use (y, x), but keep the input position\u001b[39;00m\n\u001b[1;32m    569\u001b[0m pos_yx \u001b[39m=\u001b[39m position[::\u001b[39m-\u001b[39m\u001b[39m1\u001b[39m]\n\u001b[0;32m--> 571\u001b[0m cutout_data, input_position_cutout \u001b[39m=\u001b[39m extract_array(\n\u001b[1;32m    572\u001b[0m     data, \u001b[39mtuple\u001b[39;49m(shape), pos_yx, mode\u001b[39m=\u001b[39;49mmode, fill_value\u001b[39m=\u001b[39;49mfill_value,\n\u001b[1;32m    573\u001b[0m     return_position\u001b[39m=\u001b[39;49m\u001b[39mTrue\u001b[39;49;00m)\n\u001b[1;32m    574\u001b[0m \u001b[39mif\u001b[39;00m copy:\n\u001b[1;32m    575\u001b[0m     cutout_data \u001b[39m=\u001b[39m np\u001b[39m.\u001b[39mcopy(cutout_data)\n",
      "File \u001b[0;32m~/Installed/anaconda3/envs/gammapy-1.0/lib/python3.9/site-packages/astropy/nddata/utils.py:216\u001b[0m, in \u001b[0;36mextract_array\u001b[0;34m(array_large, shape, position, mode, fill_value, return_position)\u001b[0m\n\u001b[1;32m    213\u001b[0m \u001b[39mif\u001b[39;00m mode \u001b[39mnot\u001b[39;00m \u001b[39min\u001b[39;00m [\u001b[39m'\u001b[39m\u001b[39mpartial\u001b[39m\u001b[39m'\u001b[39m, \u001b[39m'\u001b[39m\u001b[39mtrim\u001b[39m\u001b[39m'\u001b[39m, \u001b[39m'\u001b[39m\u001b[39mstrict\u001b[39m\u001b[39m'\u001b[39m]:\n\u001b[1;32m    214\u001b[0m     \u001b[39mraise\u001b[39;00m \u001b[39mValueError\u001b[39;00m(\u001b[39m\"\u001b[39m\u001b[39mValid modes are \u001b[39m\u001b[39m'\u001b[39m\u001b[39mpartial\u001b[39m\u001b[39m'\u001b[39m\u001b[39m, \u001b[39m\u001b[39m'\u001b[39m\u001b[39mtrim\u001b[39m\u001b[39m'\u001b[39m\u001b[39m, and \u001b[39m\u001b[39m'\u001b[39m\u001b[39mstrict\u001b[39m\u001b[39m'\u001b[39m\u001b[39m.\u001b[39m\u001b[39m\"\u001b[39m)\n\u001b[0;32m--> 216\u001b[0m large_slices, small_slices \u001b[39m=\u001b[39m overlap_slices(array_large\u001b[39m.\u001b[39;49mshape,\n\u001b[1;32m    217\u001b[0m                                             shape, position, mode\u001b[39m=\u001b[39;49mmode)\n\u001b[1;32m    218\u001b[0m extracted_array \u001b[39m=\u001b[39m array_large[large_slices]\n\u001b[1;32m    219\u001b[0m \u001b[39mif\u001b[39;00m return_position:\n",
      "File \u001b[0;32m~/Installed/anaconda3/envs/gammapy-1.0/lib/python3.9/site-packages/astropy/nddata/utils.py:112\u001b[0m, in \u001b[0;36moverlap_slices\u001b[0;34m(large_array_shape, small_array_shape, position, mode)\u001b[0m\n\u001b[1;32m    110\u001b[0m \u001b[39mfor\u001b[39;00m e_min, large_shape \u001b[39min\u001b[39;00m \u001b[39mzip\u001b[39m(indices_min, large_array_shape):\n\u001b[1;32m    111\u001b[0m     \u001b[39mif\u001b[39;00m e_min \u001b[39m>\u001b[39m\u001b[39m=\u001b[39m large_shape:\n\u001b[0;32m--> 112\u001b[0m         \u001b[39mraise\u001b[39;00m NoOverlapError(\u001b[39m'\u001b[39m\u001b[39mArrays do not overlap.\u001b[39m\u001b[39m'\u001b[39m)\n\u001b[1;32m    114\u001b[0m \u001b[39mif\u001b[39;00m mode \u001b[39m==\u001b[39m \u001b[39m'\u001b[39m\u001b[39mstrict\u001b[39m\u001b[39m'\u001b[39m:\n\u001b[1;32m    115\u001b[0m     \u001b[39mfor\u001b[39;00m e_min \u001b[39min\u001b[39;00m indices_min:\n",
      "\u001b[0;31mNoOverlapError\u001b[0m: Arrays do not overlap."
     ]
    }
   ],
   "source": [
    "timestr = time.strftime(\"%Y%m%d-%H%M%S\")\n",
    "(Path(timestr)).mkdir(parents = True)\n",
    "\n",
    "# Create JSON file\n",
    "with open(f\"results_sliding_window.json\", \"w\") as outfile:\n",
    "    json.dump({}, outfile)\n",
    "\n",
    "filename = \"skymodel/global_skymodel_v1.0.yaml\"\n",
    "dataset = 'analysis_4'\n",
    "cwd = Path.cwd()\n",
    "path = cwd / 'datasets' / dataset\n",
    "\n",
    "# Here you can change the \"steps\" of the sliding window\n",
    "for i in np.arange(68, 79, 0.5):\n",
    "    \n",
    "    analysis = MapDataset.read(filename= path / f\"{i}-dataset.fits.gz\")\n",
    "\n",
    "    chdir(\"..\")\n",
    "\n",
    "    models_read = Models.read(filename)\n",
    "    models_read.remove(\"diffuse\")\n",
    "    models_read.freeze(\"spatial\")\n",
    "    \n",
    "    region = CircleSkyRegion(\n",
    "        center=SkyCoord(i, 0, unit=\"deg\", frame=\"galactic\"), radius=6.0 * u.deg\n",
    "    )\n",
    "\n",
    "    models_selected = models_read.select_region(region)\n",
    "\n",
    "    analysis.models = models_selected\n",
    "\n",
    "    fit = Fit(store_trace=True)\n",
    "    minuit_opts = {\"tol\": 0.001, \"strategy\": 1}\n",
    "    fit.backend = \"minuit\"\n",
    "    fit.optimize_opts = minuit_opts\n",
    "    result_minuit = fit.run(analysis)\n",
    "\n",
    "    results = {\n",
    "        str(i): {\n",
    "            \"models\": [filename, dataset],\n",
    "            \"result\": [result_minuit.optimize_result.success,\n",
    "                       result_minuit.optimize_result.message,\n",
    "                       result_minuit.optimize_result.total_stat],\n",
    "        },\n",
    "    }\n",
    "    \n",
    "    file_to_move = [f\"model_{i}.yaml\", f\"model_{i}_covariance.dat\"]\n",
    "    result_minuit.models.write(file_to_move[0], overwrite=True)\n",
    "    for file in file_to_move:\n",
    "        shutil.move(file, cwd / f\"{timestr}\" / file)\n",
    "        print('Moved:', file)\n",
    "        \n",
    "    chdir(cwd)\n",
    "    write_json(results, \"results_sliding_window.json\")"
   ]
  },
  {
   "cell_type": "code",
   "execution_count": null,
   "metadata": {},
   "outputs": [
    {
     "name": "stdout",
     "output_type": "stream",
     "text": [
      "Moved: results_sliding_window.json\n"
     ]
    }
   ],
   "source": [
    "file = \"results_sliding_window.json\"\n",
    "shutil.move(file, f\"{timestr}/\" + file)\n",
    "print('Moved:', file)"
   ]
  }
 ],
 "metadata": {
  "kernelspec": {
   "display_name": "gammapy-1.0",
   "language": "python",
   "name": "python3"
  },
  "language_info": {
   "codemirror_mode": {
    "name": "ipython",
    "version": 3
   },
   "file_extension": ".py",
   "mimetype": "text/x-python",
   "name": "python",
   "nbconvert_exporter": "python",
   "pygments_lexer": "ipython3",
   "version": "3.9.15"
  },
  "orig_nbformat": 4,
  "vscode": {
   "interpreter": {
    "hash": "e6ec65d4e5125fb7c3728be15180ce0198c4c898eb3567f17077f174e9082a6b"
   }
  }
 },
 "nbformat": 4,
 "nbformat_minor": 2
}
