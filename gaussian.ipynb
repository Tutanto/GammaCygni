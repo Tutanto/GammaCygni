{
 "cells": [
  {
   "cell_type": "code",
   "execution_count": 2,
   "metadata": {},
   "outputs": [
    {
     "name": "stderr",
     "output_type": "stream",
     "text": [
      "/home/antonio/Installed/anaconda3/envs/gammapy-0.20/lib/python3.8/site-packages/astropy/visualization/mpl_normalize.py:162: RuntimeWarning: invalid value encountered in true_divide\n",
      "  np.true_divide(values, self.vmax - self.vmin, out=values)\n"
     ]
    },
    {
     "data": {
      "image/png": "[encoded data removed]",
      "text/plain": [
       "<Figure size 648x432 with 3 Axes>"
      ]
     },
     "metadata": {
      "needs_background": "dark"
     },
     "output_type": "display_data"
    }
   ],
   "source": [
    "from astropy import units as u\n",
    "import matplotlib.pyplot as plt\n",
    "from gammapy.maps import Map, WcsGeom\n",
    "from gammapy.modeling.models import (\n",
    "    GeneralizedGaussianSpatialModel,\n",
    "    Models,\n",
    "    PowerLawSpectralModel,\n",
    "    SkyModel,\n",
    ")\n",
    "\n",
    "lon_0 = 20\n",
    "lat_0 = 0\n",
    "reval = 2\n",
    "dr = 0.02\n",
    "geom = WcsGeom.create(\n",
    "    skydir=(lon_0, lat_0),\n",
    "    binsz=dr,\n",
    "    width=(2 * reval, 2 * reval),\n",
    "    frame=\"galactic\",\n",
    ")\n",
    "\n",
    "eta_range = [0.3, 1, 10]\n",
    "tags = [r\"$\\eta=$\"+str(eta_range[0]), r\"$\\eta=$\"+str(eta_range[1]), r\"$\\eta=$\"+str(eta_range[2])]\n",
    "r_0 = 1.e9\n",
    "e = .999\n",
    "phi = 90 * u.deg\n",
    "fig, axes = plt.subplots(1, 3, figsize=(9, 6))\n",
    "for ax, eta, tag in zip(axes, eta_range, tags):\n",
    "    model = GeneralizedGaussianSpatialModel(\n",
    "        lon_0=lon_0 * u.deg,\n",
    "        lat_0=lat_0 * u.deg,\n",
    "        eta=eta,\n",
    "        r_0=r_0 * u.deg,\n",
    "        e=e,\n",
    "        phi=phi,\n",
    "        frame=\"galactic\",\n",
    "    )\n",
    "    meval = model.evaluate_geom(geom)\n",
    "    Map.from_geom(geom=geom, data=meval.value, unit=meval.unit).plot(ax=ax)\n",
    "    pixreg = model.to_region().to_pixel(geom.wcs)\n",
    "    pixreg.plot(ax=ax, edgecolor=\"g\", facecolor=\"none\", lw=2)\n",
    "    ax.set_title(tag)\n",
    "   \n",
    "plt.tight_layout()"
   ]
  },
  {
   "cell_type": "code",
   "execution_count": null,
   "metadata": {},
   "outputs": [],
   "source": []
  }
 ],
 "metadata": {
  "kernelspec": {
   "display_name": "Python 3.8.13 ('gammapy-0.20')",
   "language": "python",
   "name": "python3"
  },
  "language_info": {
   "codemirror_mode": {
    "name": "ipython",
    "version": 3
   },
   "file_extension": ".py",
   "mimetype": "text/x-python",
   "name": "python",
   "nbconvert_exporter": "python",
   "pygments_lexer": "ipython3",
   "version": "3.8.13"
  },
  "orig_nbformat": 4,
  "vscode": {
   "interpreter": {
    "hash": "cb0b8e9f3b149c53d911c5f5a0bebd379c5e755196a45d53592a81d9566d7aa2"
   }
  }
 },
 "nbformat": 4,
 "nbformat_minor": 2
}
