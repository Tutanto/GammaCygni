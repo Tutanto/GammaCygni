{
 "cells": [
  {
   "cell_type": "markdown",
   "id": "550ff8a4-c54d-423a-b256-7d5519893da3",
   "metadata": {},
   "source": [
    "## Data quick-look\n",
    "\n",
    "First of all, let's start with the basic library and function imports:"
   ]
  },
  {
   "cell_type": "code",
   "execution_count": 1,
   "id": "36020891-e35a-4af4-b143-b6e97c38a446",
   "metadata": {},
   "outputs": [],
   "source": [
    "## plotting libraries\n",
    "%matplotlib inline\n",
    "import matplotlib.pyplot as plt\n",
    "\n",
    "# python library that manages paths\n",
    "from pathlib import Path\n",
    "\n",
    "## general mathematical and astronomical libraries\n",
    "import numpy as np\n",
    "import astropy\n",
    "from astropy import units as u\n",
    "\n",
    "## basic imports from Gammapy to manage data \n",
    "from gammapy.data import DataStore, EventList\n",
    "from gammapy.irf import load_cta_irfs"
   ]
  },
  {
   "cell_type": "markdown",
   "id": "b6ac6eb8-dca9-4f40-8767-c7e9f96dcc39",
   "metadata": {},
   "source": [
    "The smartest way to perform a proper data analysis with Gammapy is creating a datastore index, where the data are listed.\n",
    "There are two options: one is to access directly the event files, the second to use the so called index files. The latter store all the main information related to each event list. These index files can be accesed once and we can perform data selection in a quick way. \n",
    "Let's see how to work with the options:"
   ]
  },
  {
   "cell_type": "markdown",
   "id": "791eadb7-ae3e-4df9-ba75-b54a2c8233d1",
   "metadata": {},
   "source": [
    "## Data Store"
   ]
  },
  {
   "cell_type": "markdown",
   "id": "9f56a51a-05ef-4bc3-baf3-6bd11ad87a5e",
   "metadata": {},
   "source": [
    "If we already have the index files, we can access their directory and allow Gammapy read them:"
   ]
  },
  {
   "cell_type": "code",
   "execution_count": 10,
   "id": "ef796a63-291f-4556-8f55-5721a482ef1e",
   "metadata": {},
   "outputs": [
    {
     "name": "stdout",
     "output_type": "stream",
     "text": [
      "Data store:\n",
      "HDU index table:\n",
      "BASE_DIR: ..\n",
      "Rows: 1080\n",
      "OBS_ID: 0 -- 179\n",
      "HDU_TYPE: ['aeff', 'bkg', 'edisp', 'events', 'gti', 'psf']\n",
      "HDU_CLASS: ['aeff_2d', 'bkg_3d', 'edisp_2d', 'events', 'gti', 'psf_3gauss']\n",
      "\n",
      "\n",
      "Observation table:\n",
      "Observatory name: 'N/A'\n",
      "Number of observations: 180\n",
      "\n"
     ]
    }
   ],
   "source": [
    "data_store = DataStore.from_dir(\"../\")\n",
    "data_store.info()"
   ]
  },
  {
   "cell_type": "code",
   "execution_count": 3,
   "id": "5909336a-a18c-4cf8-84a5-439d657316d6",
   "metadata": {},
   "outputs": [
    {
     "data": {
      "text/html": [
       "<div><i>ObservationTable length=180</i>\n",
       "<table id=\"table140495674780832\" class=\"table-striped table-bordered table-condensed\">\n",
       "<thead><tr><th>OBS_ID</th><th>TSTART</th><th>TSTOP</th><th>ONTIME</th><th>LIVETIME</th><th>DEADC</th><th>TELESCOP</th><th>RA_PNT</th><th>DEC_PNT</th><th>GLON_PNT</th><th>GLAT_PNT</th><th>DATE-OBS</th><th>TIME-OBS</th><th>DATE-END</th><th>TIME-END</th><th>N_TELS</th><th>OBJECT</th><th>EVENTS_FILENAME</th><th>EVENT_COUNT</th><th>CALDB</th><th>IRF</th><th>IRF_FILENAME</th></tr></thead>\n",
       "<thead><tr><th></th><th>s</th><th>s</th><th>s</th><th>s</th><th></th><th></th><th>deg</th><th>deg</th><th>deg</th><th>deg</th><th></th><th></th><th></th><th></th><th></th><th></th><th></th><th></th><th></th><th></th><th></th></tr></thead>\n",
       "<thead><tr><th>int64</th><th>float64</th><th>float64</th><th>float64</th><th>float64</th><th>float64</th><th>bytes5</th><th>float64</th><th>float64</th><th>float64</th><th>float64</th><th>bytes13</th><th>bytes13</th><th>bytes13</th><th>bytes13</th><th>bytes1</th><th>bytes7</th><th>bytes32</th><th>int64</th><th>bytes13</th><th>bytes13</th><th>bytes64</th></tr></thead>\n",
       "<tr><td>3</td><td>41736811.56099981</td><td>41747611.56099981</td><td>10800.0</td><td>10800.0</td><td>1.0</td><td>ASTRI</td><td>295.5624999999999</td><td>29.28444444444445</td><td>64.4997195379484</td><td>3.0006375049855123</td><td>NOT AVAILABLE</td><td>NOT AVAILABLE</td><td>NOT AVAILABLE</td><td>NOT AVAILABLE</td><td>--</td><td>diffuse</td><td>../sim_events/events_000003.fits</td><td>28045</td><td>NOT AVAILABLE</td><td>NOT AVAILABLE</td><td>../irfs/astri_100_43_008_0502_C0_20_AVERAGE_50h_SC_v1.0.lv3.fits</td></tr>\n",
       "<tr><td>31</td><td>46480249.50499982</td><td>46491049.50499982</td><td>10800.0</td><td>10800.0</td><td>1.0</td><td>ASTRI</td><td>306.5916666666666</td><td>40.74194444444444</td><td>78.99824823229059</td><td>1.5022895140542958</td><td>NOT AVAILABLE</td><td>NOT AVAILABLE</td><td>NOT AVAILABLE</td><td>NOT AVAILABLE</td><td>--</td><td>diffuse</td><td>../sim_events/events_000031.fits</td><td>28967</td><td>NOT AVAILABLE</td><td>NOT AVAILABLE</td><td>../irfs/astri_100_43_008_0502_C0_20_AVERAGE_50h_SC_v1.0.lv3.fits</td></tr>\n",
       "<tr><td>124</td><td>52093627.31799998</td><td>52104427.31799998</td><td>10800.0</td><td>10800.0</td><td>1.0</td><td>ASTRI</td><td>304.1833333333333</td><td>35.36638888888889</td><td>73.49941027175842</td><td>0.000651251307875987</td><td>NOT AVAILABLE</td><td>NOT AVAILABLE</td><td>NOT AVAILABLE</td><td>NOT AVAILABLE</td><td>--</td><td>diffuse</td><td>../sim_events/events_000124.fits</td><td>28330</td><td>NOT AVAILABLE</td><td>NOT AVAILABLE</td><td>../irfs/astri_100_43_008_0502_C0_20_AVERAGE_50h_SC_v1.0.lv3.fits</td></tr>\n",
       "<tr><td>15</td><td>44243848.84399991</td><td>44254648.84399991</td><td>10800.0</td><td>10800.0</td><td>1.0</td><td>ASTRI</td><td>309.3708333333333</td><td>41.0625</td><td>80.50044757399145</td><td>-0.0005960895085289492</td><td>NOT AVAILABLE</td><td>NOT AVAILABLE</td><td>NOT AVAILABLE</td><td>NOT AVAILABLE</td><td>--</td><td>diffuse</td><td>../sim_events/events_000015.fits</td><td>29224</td><td>NOT AVAILABLE</td><td>NOT AVAILABLE</td><td>../irfs/astri_100_43_008_0502_C0_20_AVERAGE_50h_SC_v1.0.lv3.fits</td></tr>\n",
       "<tr><td>110</td><td>51586470.67400019</td><td>51597270.67400019</td><td>10800.0</td><td>10800.0</td><td>1.0</td><td>ASTRI</td><td>306.1125</td><td>42.83166666666667</td><td>80.50040631467246</td><td>2.9995106076673936</td><td>NOT AVAILABLE</td><td>NOT AVAILABLE</td><td>NOT AVAILABLE</td><td>NOT AVAILABLE</td><td>--</td><td>diffuse</td><td>../sim_events/events_000110.fits</td><td>29055</td><td>NOT AVAILABLE</td><td>NOT AVAILABLE</td><td>../irfs/astri_100_43_008_0502_C0_20_AVERAGE_50h_SC_v1.0.lv3.fits</td></tr>\n",
       "<tr><td>120</td><td>51920976.45100029</td><td>51931776.45100029</td><td>10800.0</td><td>10800.0</td><td>1.0</td><td>ASTRI</td><td>302.1874999999999</td><td>32.86277777777778</td><td>70.49985581357672</td><td>0.0002158548070369155</td><td>NOT AVAILABLE</td><td>NOT AVAILABLE</td><td>NOT AVAILABLE</td><td>NOT AVAILABLE</td><td>--</td><td>diffuse</td><td>../sim_events/events_000120.fits</td><td>28251</td><td>NOT AVAILABLE</td><td>NOT AVAILABLE</td><td>../irfs/astri_100_43_008_0502_C0_20_AVERAGE_50h_SC_v1.0.lv3.fits</td></tr>\n",
       "<tr><td>147</td><td>54338024.1970002</td><td>54348824.1970002</td><td>10800.0</td><td>10800.0</td><td>1.0</td><td>ASTRI</td><td>299.1291666666667</td><td>34.45444444444445</td><td>70.49873968596182</td><td>3.0022367486682153</td><td>NOT AVAILABLE</td><td>NOT AVAILABLE</td><td>NOT AVAILABLE</td><td>NOT AVAILABLE</td><td>--</td><td>diffuse</td><td>../sim_events/events_000147.fits</td><td>28001</td><td>NOT AVAILABLE</td><td>NOT AVAILABLE</td><td>../irfs/astri_100_43_008_0502_C0_20_AVERAGE_50h_SC_v1.0.lv3.fits</td></tr>\n",
       "<tr><td>174</td><td>56830889.53499968</td><td>56841689.53499968</td><td>10800.0</td><td>10800.0</td><td>1.0</td><td>ASTRI</td><td>300.3</td><td>30.32916666666667</td><td>67.49936696240592</td><td>0.0011668991841044896</td><td>NOT AVAILABLE</td><td>NOT AVAILABLE</td><td>NOT AVAILABLE</td><td>NOT AVAILABLE</td><td>--</td><td>diffuse</td><td>../sim_events/events_000174.fits</td><td>28157</td><td>NOT AVAILABLE</td><td>NOT AVAILABLE</td><td>../irfs/astri_100_43_008_0502_C0_20_AVERAGE_50h_SC_v1.0.lv3.fits</td></tr>\n",
       "<tr><td>22</td><td>44848946.70300025</td><td>44859746.70300025</td><td>10800.0</td><td>10800.0</td><td>1.0</td><td>ASTRI</td><td>306.5916666666666</td><td>40.74194444444444</td><td>78.99824823229059</td><td>1.5022895140542958</td><td>NOT AVAILABLE</td><td>NOT AVAILABLE</td><td>NOT AVAILABLE</td><td>NOT AVAILABLE</td><td>--</td><td>diffuse</td><td>../sim_events/events_000022.fits</td><td>28790</td><td>NOT AVAILABLE</td><td>NOT AVAILABLE</td><td>../irfs/astri_100_43_008_0502_C0_20_AVERAGE_50h_SC_v1.0.lv3.fits</td></tr>\n",
       "<tr><td>...</td><td>...</td><td>...</td><td>...</td><td>...</td><td>...</td><td>...</td><td>...</td><td>...</td><td>...</td><td>...</td><td>...</td><td>...</td><td>...</td><td>...</td><td>...</td><td>...</td><td>...</td><td>...</td><td>...</td><td>...</td><td>...</td></tr>\n",
       "<tr><td>129</td><td>52525246.54300022</td><td>52536046.54300022</td><td>10800.0</td><td>10800.0</td><td>1.0</td><td>ASTRI</td><td>301.0666666666667</td><td>37.00416666666667</td><td>73.49848194494098</td><td>3.0020484066355775</td><td>NOT AVAILABLE</td><td>NOT AVAILABLE</td><td>NOT AVAILABLE</td><td>NOT AVAILABLE</td><td>--</td><td>diffuse</td><td>../sim_events/events_000129.fits</td><td>28166</td><td>NOT AVAILABLE</td><td>NOT AVAILABLE</td><td>../irfs/astri_100_43_008_0502_C0_20_AVERAGE_50h_SC_v1.0.lv3.fits</td></tr>\n",
       "<tr><td>106</td><td>51478542.59400024</td><td>51489342.59400024</td><td>10800.0</td><td>10800.0</td><td>1.0</td><td>ASTRI</td><td>309.3708333333333</td><td>41.0625</td><td>80.50044757399145</td><td>-0.0005960895085289492</td><td>NOT AVAILABLE</td><td>NOT AVAILABLE</td><td>NOT AVAILABLE</td><td>NOT AVAILABLE</td><td>--</td><td>diffuse</td><td>../sim_events/events_000106.fits</td><td>28687</td><td>NOT AVAILABLE</td><td>NOT AVAILABLE</td><td>../irfs/astri_100_43_008_0502_C0_20_AVERAGE_50h_SC_v1.0.lv3.fits</td></tr>\n",
       "<tr><td>75</td><td>49406409.26800026</td><td>49417209.26800026</td><td>10800.0</td><td>10800.0</td><td>1.0</td><td>ASTRI</td><td>301.6416666666667</td><td>34.93527777777778</td><td>71.99876708528579</td><td>1.5016285590461997</td><td>NOT AVAILABLE</td><td>NOT AVAILABLE</td><td>NOT AVAILABLE</td><td>NOT AVAILABLE</td><td>--</td><td>diffuse</td><td>../sim_events/events_000075.fits</td><td>28077</td><td>NOT AVAILABLE</td><td>NOT AVAILABLE</td><td>../irfs/astri_100_43_008_0502_C0_20_AVERAGE_50h_SC_v1.0.lv3.fits</td></tr>\n",
       "<tr><td>112</td><td>51661998.06800005</td><td>51672798.06800005</td><td>10800.0</td><td>10800.0</td><td>1.0</td><td>ASTRI</td><td>306.1125</td><td>42.83166666666667</td><td>80.50040631467246</td><td>2.9995106076673936</td><td>NOT AVAILABLE</td><td>NOT AVAILABLE</td><td>NOT AVAILABLE</td><td>NOT AVAILABLE</td><td>--</td><td>diffuse</td><td>../sim_events/events_000112.fits</td><td>28504</td><td>NOT AVAILABLE</td><td>NOT AVAILABLE</td><td>../irfs/astri_100_43_008_0502_C0_20_AVERAGE_50h_SC_v1.0.lv3.fits</td></tr>\n",
       "<tr><td>32</td><td>46566660.47700012</td><td>46577460.47700012</td><td>10800.0</td><td>10800.0</td><td>1.0</td><td>ASTRI</td><td>306.5916666666666</td><td>40.74194444444444</td><td>78.99824823229059</td><td>1.5022895140542958</td><td>NOT AVAILABLE</td><td>NOT AVAILABLE</td><td>NOT AVAILABLE</td><td>NOT AVAILABLE</td><td>--</td><td>diffuse</td><td>../sim_events/events_000032.fits</td><td>29091</td><td>NOT AVAILABLE</td><td>NOT AVAILABLE</td><td>../irfs/astri_100_43_008_0502_C0_20_AVERAGE_50h_SC_v1.0.lv3.fits</td></tr>\n",
       "<tr><td>71</td><td>49255301.22200008</td><td>49266101.22200008</td><td>10800.0</td><td>10800.0</td><td>1.0</td><td>ASTRI</td><td>307.0458333333333</td><td>38.64944444444444</td><td>77.49932661147483</td><td>0.0008288829548583793</td><td>NOT AVAILABLE</td><td>NOT AVAILABLE</td><td>NOT AVAILABLE</td><td>NOT AVAILABLE</td><td>--</td><td>diffuse</td><td>../sim_events/events_000071.fits</td><td>28679</td><td>NOT AVAILABLE</td><td>NOT AVAILABLE</td><td>../irfs/astri_100_43_008_0502_C0_20_AVERAGE_50h_SC_v1.0.lv3.fits</td></tr>\n",
       "<tr><td>143</td><td>54165375.9040002</td><td>54176175.9040002</td><td>10800.0</td><td>10800.0</td><td>1.0</td><td>ASTRI</td><td>302.1874999999999</td><td>32.86277777777778</td><td>70.49985581357672</td><td>0.0002158548070369155</td><td>NOT AVAILABLE</td><td>NOT AVAILABLE</td><td>NOT AVAILABLE</td><td>NOT AVAILABLE</td><td>--</td><td>diffuse</td><td>../sim_events/events_000143.fits</td><td>28389</td><td>NOT AVAILABLE</td><td>NOT AVAILABLE</td><td>../irfs/astri_100_43_008_0502_C0_20_AVERAGE_50h_SC_v1.0.lv3.fits</td></tr>\n",
       "<tr><td>21</td><td>44762507.01200024</td><td>44773307.01200024</td><td>10800.0</td><td>10800.0</td><td>1.0</td><td>ASTRI</td><td>306.5916666666666</td><td>40.74194444444444</td><td>78.99824823229059</td><td>1.5022895140542958</td><td>NOT AVAILABLE</td><td>NOT AVAILABLE</td><td>NOT AVAILABLE</td><td>NOT AVAILABLE</td><td>--</td><td>diffuse</td><td>../sim_events/events_000021.fits</td><td>28887</td><td>NOT AVAILABLE</td><td>NOT AVAILABLE</td><td>../irfs/astri_100_43_008_0502_C0_20_AVERAGE_50h_SC_v1.0.lv3.fits</td></tr>\n",
       "<tr><td>177</td><td>57089931.62100005</td><td>57100731.62100005</td><td>10800.0</td><td>10800.0</td><td>1.0</td><td>ASTRI</td><td>297.3</td><td>31.87972222222222</td><td>67.49918078093997</td><td>3.0013502123062388</td><td>NOT AVAILABLE</td><td>NOT AVAILABLE</td><td>NOT AVAILABLE</td><td>NOT AVAILABLE</td><td>--</td><td>diffuse</td><td>../sim_events/events_000177.fits</td><td>28043</td><td>NOT AVAILABLE</td><td>NOT AVAILABLE</td><td>../irfs/astri_100_43_008_0502_C0_20_AVERAGE_50h_SC_v1.0.lv3.fits</td></tr>\n",
       "<tr><td>88</td><td>49859756.25300016</td><td>49870556.25300016</td><td>10800.0</td><td>10800.0</td><td>1.0</td><td>ASTRI</td><td>303.85</td><td>40.35805555555556</td><td>77.4996198889786</td><td>3.0004560357598278</td><td>NOT AVAILABLE</td><td>NOT AVAILABLE</td><td>NOT AVAILABLE</td><td>NOT AVAILABLE</td><td>--</td><td>diffuse</td><td>../sim_events/events_000088.fits</td><td>28645</td><td>NOT AVAILABLE</td><td>NOT AVAILABLE</td><td>../irfs/astri_100_43_008_0502_C0_20_AVERAGE_50h_SC_v1.0.lv3.fits</td></tr>\n",
       "</table></div>"
      ],
      "text/plain": [
       "<ObservationTable length=180>\n",
       "OBS_ID ...                           IRF_FILENAME                          \n",
       "       ...                                                                 \n",
       "int64  ...                             bytes64                             \n",
       "------ ... ----------------------------------------------------------------\n",
       "     3 ... ../irfs/astri_100_43_008_0502_C0_20_AVERAGE_50h_SC_v1.0.lv3.fits\n",
       "    31 ... ../irfs/astri_100_43_008_0502_C0_20_AVERAGE_50h_SC_v1.0.lv3.fits\n",
       "   124 ... ../irfs/astri_100_43_008_0502_C0_20_AVERAGE_50h_SC_v1.0.lv3.fits\n",
       "    15 ... ../irfs/astri_100_43_008_0502_C0_20_AVERAGE_50h_SC_v1.0.lv3.fits\n",
       "   110 ... ../irfs/astri_100_43_008_0502_C0_20_AVERAGE_50h_SC_v1.0.lv3.fits\n",
       "   120 ... ../irfs/astri_100_43_008_0502_C0_20_AVERAGE_50h_SC_v1.0.lv3.fits\n",
       "   147 ... ../irfs/astri_100_43_008_0502_C0_20_AVERAGE_50h_SC_v1.0.lv3.fits\n",
       "   174 ... ../irfs/astri_100_43_008_0502_C0_20_AVERAGE_50h_SC_v1.0.lv3.fits\n",
       "    22 ... ../irfs/astri_100_43_008_0502_C0_20_AVERAGE_50h_SC_v1.0.lv3.fits\n",
       "   ... ...                                                              ...\n",
       "   129 ... ../irfs/astri_100_43_008_0502_C0_20_AVERAGE_50h_SC_v1.0.lv3.fits\n",
       "   106 ... ../irfs/astri_100_43_008_0502_C0_20_AVERAGE_50h_SC_v1.0.lv3.fits\n",
       "    75 ... ../irfs/astri_100_43_008_0502_C0_20_AVERAGE_50h_SC_v1.0.lv3.fits\n",
       "   112 ... ../irfs/astri_100_43_008_0502_C0_20_AVERAGE_50h_SC_v1.0.lv3.fits\n",
       "    32 ... ../irfs/astri_100_43_008_0502_C0_20_AVERAGE_50h_SC_v1.0.lv3.fits\n",
       "    71 ... ../irfs/astri_100_43_008_0502_C0_20_AVERAGE_50h_SC_v1.0.lv3.fits\n",
       "   143 ... ../irfs/astri_100_43_008_0502_C0_20_AVERAGE_50h_SC_v1.0.lv3.fits\n",
       "    21 ... ../irfs/astri_100_43_008_0502_C0_20_AVERAGE_50h_SC_v1.0.lv3.fits\n",
       "   177 ... ../irfs/astri_100_43_008_0502_C0_20_AVERAGE_50h_SC_v1.0.lv3.fits\n",
       "    88 ... ../irfs/astri_100_43_008_0502_C0_20_AVERAGE_50h_SC_v1.0.lv3.fits"
      ]
     },
     "execution_count": 3,
     "metadata": {},
     "output_type": "execute_result"
    }
   ],
   "source": [
    "# Let's inspect deeper the datastore tables:\n",
    "# firstly, the observation table\n",
    "data_store.obs_table"
   ]
  },
  {
   "cell_type": "code",
   "execution_count": 4,
   "id": "6da487b2-cb1a-44de-b3fc-17aaf5d6baa9",
   "metadata": {},
   "outputs": [
    {
     "data": {
      "text/html": [
       "<div><i>HDUIndexTable length=1080</i>\n",
       "<table id=\"table140497312107296\" class=\"table-striped table-bordered table-condensed\">\n",
       "<thead><tr><th>HDU_TYPE</th><th>HDU_CLASS</th><th>HDU_NAME</th><th>OBS_ID</th><th>FILE_DIR</th><th>FILE_NAME</th></tr></thead>\n",
       "<thead><tr><th>bytes6</th><th>bytes10</th><th>bytes21</th><th>int64</th><th>bytes13</th><th>bytes56</th></tr></thead>\n",
       "<tr><td>events</td><td>events</td><td>EVENTS</td><td>3</td><td>../sim_events</td><td>events_000003.fits</td></tr>\n",
       "<tr><td>gti</td><td>gti</td><td>GTI</td><td>3</td><td>../sim_events</td><td>events_000003.fits</td></tr>\n",
       "<tr><td>aeff</td><td>aeff_2d</td><td>EFFECTIVE AREA</td><td>3</td><td>../irfs</td><td>astri_100_43_008_0502_C0_20_AVERAGE_50h_SC_v1.0.lv3.fits</td></tr>\n",
       "<tr><td>edisp</td><td>edisp_2d</td><td>ENERGY DISPERSION</td><td>3</td><td>../irfs</td><td>astri_100_43_008_0502_C0_20_AVERAGE_50h_SC_v1.0.lv3.fits</td></tr>\n",
       "<tr><td>psf</td><td>psf_3gauss</td><td>POINT SPREAD FUNCTION</td><td>3</td><td>../irfs</td><td>astri_100_43_008_0502_C0_20_AVERAGE_50h_SC_v1.0.lv3.fits</td></tr>\n",
       "<tr><td>bkg</td><td>bkg_3d</td><td>BACKGROUND</td><td>3</td><td>../irfs</td><td>astri_100_43_008_0502_C0_20_AVERAGE_50h_SC_v1.0.lv3.fits</td></tr>\n",
       "<tr><td>events</td><td>events</td><td>EVENTS</td><td>31</td><td>../sim_events</td><td>events_000031.fits</td></tr>\n",
       "<tr><td>gti</td><td>gti</td><td>GTI</td><td>31</td><td>../sim_events</td><td>events_000031.fits</td></tr>\n",
       "<tr><td>aeff</td><td>aeff_2d</td><td>EFFECTIVE AREA</td><td>31</td><td>../irfs</td><td>astri_100_43_008_0502_C0_20_AVERAGE_50h_SC_v1.0.lv3.fits</td></tr>\n",
       "<tr><td>edisp</td><td>edisp_2d</td><td>ENERGY DISPERSION</td><td>31</td><td>../irfs</td><td>astri_100_43_008_0502_C0_20_AVERAGE_50h_SC_v1.0.lv3.fits</td></tr>\n",
       "<tr><td>...</td><td>...</td><td>...</td><td>...</td><td>...</td><td>...</td></tr>\n",
       "<tr><td>aeff</td><td>aeff_2d</td><td>EFFECTIVE AREA</td><td>177</td><td>../irfs</td><td>astri_100_43_008_0502_C0_20_AVERAGE_50h_SC_v1.0.lv3.fits</td></tr>\n",
       "<tr><td>edisp</td><td>edisp_2d</td><td>ENERGY DISPERSION</td><td>177</td><td>../irfs</td><td>astri_100_43_008_0502_C0_20_AVERAGE_50h_SC_v1.0.lv3.fits</td></tr>\n",
       "<tr><td>psf</td><td>psf_3gauss</td><td>POINT SPREAD FUNCTION</td><td>177</td><td>../irfs</td><td>astri_100_43_008_0502_C0_20_AVERAGE_50h_SC_v1.0.lv3.fits</td></tr>\n",
       "<tr><td>bkg</td><td>bkg_3d</td><td>BACKGROUND</td><td>177</td><td>../irfs</td><td>astri_100_43_008_0502_C0_20_AVERAGE_50h_SC_v1.0.lv3.fits</td></tr>\n",
       "<tr><td>events</td><td>events</td><td>EVENTS</td><td>88</td><td>../sim_events</td><td>events_000088.fits</td></tr>\n",
       "<tr><td>gti</td><td>gti</td><td>GTI</td><td>88</td><td>../sim_events</td><td>events_000088.fits</td></tr>\n",
       "<tr><td>aeff</td><td>aeff_2d</td><td>EFFECTIVE AREA</td><td>88</td><td>../irfs</td><td>astri_100_43_008_0502_C0_20_AVERAGE_50h_SC_v1.0.lv3.fits</td></tr>\n",
       "<tr><td>edisp</td><td>edisp_2d</td><td>ENERGY DISPERSION</td><td>88</td><td>../irfs</td><td>astri_100_43_008_0502_C0_20_AVERAGE_50h_SC_v1.0.lv3.fits</td></tr>\n",
       "<tr><td>psf</td><td>psf_3gauss</td><td>POINT SPREAD FUNCTION</td><td>88</td><td>../irfs</td><td>astri_100_43_008_0502_C0_20_AVERAGE_50h_SC_v1.0.lv3.fits</td></tr>\n",
       "<tr><td>bkg</td><td>bkg_3d</td><td>BACKGROUND</td><td>88</td><td>../irfs</td><td>astri_100_43_008_0502_C0_20_AVERAGE_50h_SC_v1.0.lv3.fits</td></tr>\n",
       "</table></div>"
      ],
      "text/plain": [
       "<HDUIndexTable length=1080>\n",
       "HDU_TYPE HDU_CLASS  ...                        FILE_NAME                        \n",
       " bytes6   bytes10   ...                         bytes56                         \n",
       "-------- ---------- ... --------------------------------------------------------\n",
       "  events     events ...                                       events_000003.fits\n",
       "     gti        gti ...                                       events_000003.fits\n",
       "    aeff    aeff_2d ... astri_100_43_008_0502_C0_20_AVERAGE_50h_SC_v1.0.lv3.fits\n",
       "   edisp   edisp_2d ... astri_100_43_008_0502_C0_20_AVERAGE_50h_SC_v1.0.lv3.fits\n",
       "     psf psf_3gauss ... astri_100_43_008_0502_C0_20_AVERAGE_50h_SC_v1.0.lv3.fits\n",
       "     bkg     bkg_3d ... astri_100_43_008_0502_C0_20_AVERAGE_50h_SC_v1.0.lv3.fits\n",
       "  events     events ...                                       events_000031.fits\n",
       "     gti        gti ...                                       events_000031.fits\n",
       "    aeff    aeff_2d ... astri_100_43_008_0502_C0_20_AVERAGE_50h_SC_v1.0.lv3.fits\n",
       "   edisp   edisp_2d ... astri_100_43_008_0502_C0_20_AVERAGE_50h_SC_v1.0.lv3.fits\n",
       "     ...        ... ...                                                      ...\n",
       "    aeff    aeff_2d ... astri_100_43_008_0502_C0_20_AVERAGE_50h_SC_v1.0.lv3.fits\n",
       "   edisp   edisp_2d ... astri_100_43_008_0502_C0_20_AVERAGE_50h_SC_v1.0.lv3.fits\n",
       "     psf psf_3gauss ... astri_100_43_008_0502_C0_20_AVERAGE_50h_SC_v1.0.lv3.fits\n",
       "     bkg     bkg_3d ... astri_100_43_008_0502_C0_20_AVERAGE_50h_SC_v1.0.lv3.fits\n",
       "  events     events ...                                       events_000088.fits\n",
       "     gti        gti ...                                       events_000088.fits\n",
       "    aeff    aeff_2d ... astri_100_43_008_0502_C0_20_AVERAGE_50h_SC_v1.0.lv3.fits\n",
       "   edisp   edisp_2d ... astri_100_43_008_0502_C0_20_AVERAGE_50h_SC_v1.0.lv3.fits\n",
       "     psf psf_3gauss ... astri_100_43_008_0502_C0_20_AVERAGE_50h_SC_v1.0.lv3.fits\n",
       "     bkg     bkg_3d ... astri_100_43_008_0502_C0_20_AVERAGE_50h_SC_v1.0.lv3.fits"
      ]
     },
     "execution_count": 4,
     "metadata": {},
     "output_type": "execute_result"
    }
   ],
   "source": [
    "# then, the HDU table\n",
    "data_store.hdu_table"
   ]
  }
 ],
 "metadata": {
  "interpreter": {
   "hash": "cb0b8e9f3b149c53d911c5f5a0bebd379c5e755196a45d53592a81d9566d7aa2"
  },
  "kernelspec": {
   "display_name": "Python 3.8.13 ('gammapy-0.20')",
   "language": "python",
   "name": "python3"
  },
  "language_info": {
   "codemirror_mode": {
    "name": "ipython",
    "version": 3
   },
   "file_extension": ".py",
   "mimetype": "text/x-python",
   "name": "python",
   "nbconvert_exporter": "python",
   "pygments_lexer": "ipython3",
   "version": "3.8.13"
  }
 },
 "nbformat": 4,
 "nbformat_minor": 5
}
